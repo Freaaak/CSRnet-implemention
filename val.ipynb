{
 "cells": [
  {
   "cell_type": "code",
   "execution_count": 1,
   "metadata": {
    "collapsed": true
   },
   "outputs": [
    {
     "name": "stderr",
     "output_type": "stream",
     "text": [
      "C:\\Users\\dell\\AppData\\Local\\Temp\\ipykernel_30128\\1028975186.py:8: DeprecationWarning: Please use `gaussian_filter` from the `scipy.ndimage` namespace, the `scipy.ndimage.filters` namespace is deprecated.\n",
      "  from scipy.ndimage.filters import gaussian_filter\n"
     ]
    }
   ],
   "source": [
    "import h5py\n",
    "import scipy.io as io\n",
    "import PIL.Image as Image\n",
    "import numpy as np\n",
    "import os\n",
    "import glob\n",
    "from matplotlib import pyplot as plt\n",
    "from scipy.ndimage.filters import gaussian_filter \n",
    "import scipy\n",
    "import json\n",
    "import torchvision.transforms.functional as F\n",
    "from matplotlib import cm as CM\n",
    "from image import *\n",
    "from model import CSRNet\n",
    "import torch\n",
    "%matplotlib inline"
   ]
  },
  {
   "cell_type": "code",
   "execution_count": 2,
   "metadata": {
    "collapsed": true
   },
   "outputs": [],
   "source": [
    "from torchvision import datasets, transforms\n",
    "transform=transforms.Compose([\n",
    "                       transforms.ToTensor(),transforms.Normalize(mean=[0.485, 0.456, 0.406],\n",
    "                                     std=[0.229, 0.224, 0.225]),\n",
    "                   ])"
   ]
  },
  {
   "cell_type": "code",
   "execution_count": 3,
   "metadata": {
    "collapsed": true
   },
   "outputs": [],
   "source": [
    "root = r'C:\\Users\\dell\\Desktop\\ShanghaiTech_Crowd_Counting_Dataset'"
   ]
  },
  {
   "cell_type": "code",
   "execution_count": 4,
   "metadata": {
    "collapsed": true
   },
   "outputs": [],
   "source": [
    "#now generate the ShanghaiA's ground truth\n",
    "part_A_train = os.path.join(root,'part_A_final/train_data','images')\n",
    "part_A_test = os.path.join(root,'part_A_final/test_data','images')\n",
    "part_B_train = os.path.join(root,'part_B_final/train_data','images')\n",
    "part_B_test = os.path.join(root,'part_B_final/test_data','images')\n",
    "path_sets = [part_A_test]"
   ]
  },
  {
   "cell_type": "code",
   "execution_count": 5,
   "metadata": {
    "collapsed": true
   },
   "outputs": [],
   "source": [
    "img_paths = []\n",
    "for path in path_sets:\n",
    "    for img_path in glob.glob(os.path.join(path, '*.jpg')):\n",
    "        img_paths.append(img_path)"
   ]
  },
  {
   "cell_type": "code",
   "execution_count": 6,
   "metadata": {
    "collapsed": true
   },
   "outputs": [],
   "source": [
    "model = CSRNet()"
   ]
  },
  {
   "cell_type": "code",
   "execution_count": 7,
   "metadata": {
    "collapsed": true
   },
   "outputs": [
    {
     "ename": "AssertionError",
     "evalue": "Torch not compiled with CUDA enabled",
     "output_type": "error",
     "traceback": [
      "\u001b[1;31m---------------------------------------------------------------------------\u001b[0m",
      "\u001b[1;31mAssertionError\u001b[0m                            Traceback (most recent call last)",
      "\u001b[1;32mc:\\Users\\dell\\Desktop\\CSRNet-pytorch-master\\val.ipynb Cell 7'\u001b[0m in \u001b[0;36m<cell line: 1>\u001b[1;34m()\u001b[0m\n\u001b[1;32m----> <a href='vscode-notebook-cell:/c%3A/Users/dell/Desktop/CSRNet-pytorch-master/val.ipynb#ch0000006?line=0'>1</a>\u001b[0m model \u001b[39m=\u001b[39m model\u001b[39m.\u001b[39;49mcuda()\n",
      "File \u001b[1;32mc:\\Users\\dell\\AppData\\Local\\Programs\\Python\\Python39\\lib\\site-packages\\torch\\nn\\modules\\module.py:680\u001b[0m, in \u001b[0;36mModule.cuda\u001b[1;34m(self, device)\u001b[0m\n\u001b[0;32m    <a href='file:///c%3A/Users/dell/AppData/Local/Programs/Python/Python39/lib/site-packages/torch/nn/modules/module.py?line=662'>663</a>\u001b[0m \u001b[39mdef\u001b[39;00m \u001b[39mcuda\u001b[39m(\u001b[39mself\u001b[39m: T, device: Optional[Union[\u001b[39mint\u001b[39m, device]] \u001b[39m=\u001b[39m \u001b[39mNone\u001b[39;00m) \u001b[39m-\u001b[39m\u001b[39m>\u001b[39m T:\n\u001b[0;32m    <a href='file:///c%3A/Users/dell/AppData/Local/Programs/Python/Python39/lib/site-packages/torch/nn/modules/module.py?line=663'>664</a>\u001b[0m     \u001b[39mr\u001b[39m\u001b[39m\"\"\"Moves all model parameters and buffers to the GPU.\u001b[39;00m\n\u001b[0;32m    <a href='file:///c%3A/Users/dell/AppData/Local/Programs/Python/Python39/lib/site-packages/torch/nn/modules/module.py?line=664'>665</a>\u001b[0m \n\u001b[0;32m    <a href='file:///c%3A/Users/dell/AppData/Local/Programs/Python/Python39/lib/site-packages/torch/nn/modules/module.py?line=665'>666</a>\u001b[0m \u001b[39m    This also makes associated parameters and buffers different objects. So\u001b[39;00m\n\u001b[1;32m   (...)\u001b[0m\n\u001b[0;32m    <a href='file:///c%3A/Users/dell/AppData/Local/Programs/Python/Python39/lib/site-packages/torch/nn/modules/module.py?line=677'>678</a>\u001b[0m \u001b[39m        Module: self\u001b[39;00m\n\u001b[0;32m    <a href='file:///c%3A/Users/dell/AppData/Local/Programs/Python/Python39/lib/site-packages/torch/nn/modules/module.py?line=678'>679</a>\u001b[0m \u001b[39m    \"\"\"\u001b[39;00m\n\u001b[1;32m--> <a href='file:///c%3A/Users/dell/AppData/Local/Programs/Python/Python39/lib/site-packages/torch/nn/modules/module.py?line=679'>680</a>\u001b[0m     \u001b[39mreturn\u001b[39;00m \u001b[39mself\u001b[39;49m\u001b[39m.\u001b[39;49m_apply(\u001b[39mlambda\u001b[39;49;00m t: t\u001b[39m.\u001b[39;49mcuda(device))\n",
      "File \u001b[1;32mc:\\Users\\dell\\AppData\\Local\\Programs\\Python\\Python39\\lib\\site-packages\\torch\\nn\\modules\\module.py:570\u001b[0m, in \u001b[0;36mModule._apply\u001b[1;34m(self, fn)\u001b[0m\n\u001b[0;32m    <a href='file:///c%3A/Users/dell/AppData/Local/Programs/Python/Python39/lib/site-packages/torch/nn/modules/module.py?line=567'>568</a>\u001b[0m \u001b[39mdef\u001b[39;00m \u001b[39m_apply\u001b[39m(\u001b[39mself\u001b[39m, fn):\n\u001b[0;32m    <a href='file:///c%3A/Users/dell/AppData/Local/Programs/Python/Python39/lib/site-packages/torch/nn/modules/module.py?line=568'>569</a>\u001b[0m     \u001b[39mfor\u001b[39;00m module \u001b[39min\u001b[39;00m \u001b[39mself\u001b[39m\u001b[39m.\u001b[39mchildren():\n\u001b[1;32m--> <a href='file:///c%3A/Users/dell/AppData/Local/Programs/Python/Python39/lib/site-packages/torch/nn/modules/module.py?line=569'>570</a>\u001b[0m         module\u001b[39m.\u001b[39;49m_apply(fn)\n\u001b[0;32m    <a href='file:///c%3A/Users/dell/AppData/Local/Programs/Python/Python39/lib/site-packages/torch/nn/modules/module.py?line=571'>572</a>\u001b[0m     \u001b[39mdef\u001b[39;00m \u001b[39mcompute_should_use_set_data\u001b[39m(tensor, tensor_applied):\n\u001b[0;32m    <a href='file:///c%3A/Users/dell/AppData/Local/Programs/Python/Python39/lib/site-packages/torch/nn/modules/module.py?line=572'>573</a>\u001b[0m         \u001b[39mif\u001b[39;00m torch\u001b[39m.\u001b[39m_has_compatible_shallow_copy_type(tensor, tensor_applied):\n\u001b[0;32m    <a href='file:///c%3A/Users/dell/AppData/Local/Programs/Python/Python39/lib/site-packages/torch/nn/modules/module.py?line=573'>574</a>\u001b[0m             \u001b[39m# If the new tensor has compatible tensor type as the existing tensor,\u001b[39;00m\n\u001b[0;32m    <a href='file:///c%3A/Users/dell/AppData/Local/Programs/Python/Python39/lib/site-packages/torch/nn/modules/module.py?line=574'>575</a>\u001b[0m             \u001b[39m# the current behavior is to change the tensor in-place using `.data =`,\u001b[39;00m\n\u001b[1;32m   (...)\u001b[0m\n\u001b[0;32m    <a href='file:///c%3A/Users/dell/AppData/Local/Programs/Python/Python39/lib/site-packages/torch/nn/modules/module.py?line=579'>580</a>\u001b[0m             \u001b[39m# global flag to let the user control whether they want the future\u001b[39;00m\n\u001b[0;32m    <a href='file:///c%3A/Users/dell/AppData/Local/Programs/Python/Python39/lib/site-packages/torch/nn/modules/module.py?line=580'>581</a>\u001b[0m             \u001b[39m# behavior of overwriting the existing tensor or not.\u001b[39;00m\n",
      "File \u001b[1;32mc:\\Users\\dell\\AppData\\Local\\Programs\\Python\\Python39\\lib\\site-packages\\torch\\nn\\modules\\module.py:570\u001b[0m, in \u001b[0;36mModule._apply\u001b[1;34m(self, fn)\u001b[0m\n\u001b[0;32m    <a href='file:///c%3A/Users/dell/AppData/Local/Programs/Python/Python39/lib/site-packages/torch/nn/modules/module.py?line=567'>568</a>\u001b[0m \u001b[39mdef\u001b[39;00m \u001b[39m_apply\u001b[39m(\u001b[39mself\u001b[39m, fn):\n\u001b[0;32m    <a href='file:///c%3A/Users/dell/AppData/Local/Programs/Python/Python39/lib/site-packages/torch/nn/modules/module.py?line=568'>569</a>\u001b[0m     \u001b[39mfor\u001b[39;00m module \u001b[39min\u001b[39;00m \u001b[39mself\u001b[39m\u001b[39m.\u001b[39mchildren():\n\u001b[1;32m--> <a href='file:///c%3A/Users/dell/AppData/Local/Programs/Python/Python39/lib/site-packages/torch/nn/modules/module.py?line=569'>570</a>\u001b[0m         module\u001b[39m.\u001b[39;49m_apply(fn)\n\u001b[0;32m    <a href='file:///c%3A/Users/dell/AppData/Local/Programs/Python/Python39/lib/site-packages/torch/nn/modules/module.py?line=571'>572</a>\u001b[0m     \u001b[39mdef\u001b[39;00m \u001b[39mcompute_should_use_set_data\u001b[39m(tensor, tensor_applied):\n\u001b[0;32m    <a href='file:///c%3A/Users/dell/AppData/Local/Programs/Python/Python39/lib/site-packages/torch/nn/modules/module.py?line=572'>573</a>\u001b[0m         \u001b[39mif\u001b[39;00m torch\u001b[39m.\u001b[39m_has_compatible_shallow_copy_type(tensor, tensor_applied):\n\u001b[0;32m    <a href='file:///c%3A/Users/dell/AppData/Local/Programs/Python/Python39/lib/site-packages/torch/nn/modules/module.py?line=573'>574</a>\u001b[0m             \u001b[39m# If the new tensor has compatible tensor type as the existing tensor,\u001b[39;00m\n\u001b[0;32m    <a href='file:///c%3A/Users/dell/AppData/Local/Programs/Python/Python39/lib/site-packages/torch/nn/modules/module.py?line=574'>575</a>\u001b[0m             \u001b[39m# the current behavior is to change the tensor in-place using `.data =`,\u001b[39;00m\n\u001b[1;32m   (...)\u001b[0m\n\u001b[0;32m    <a href='file:///c%3A/Users/dell/AppData/Local/Programs/Python/Python39/lib/site-packages/torch/nn/modules/module.py?line=579'>580</a>\u001b[0m             \u001b[39m# global flag to let the user control whether they want the future\u001b[39;00m\n\u001b[0;32m    <a href='file:///c%3A/Users/dell/AppData/Local/Programs/Python/Python39/lib/site-packages/torch/nn/modules/module.py?line=580'>581</a>\u001b[0m             \u001b[39m# behavior of overwriting the existing tensor or not.\u001b[39;00m\n",
      "File \u001b[1;32mc:\\Users\\dell\\AppData\\Local\\Programs\\Python\\Python39\\lib\\site-packages\\torch\\nn\\modules\\module.py:593\u001b[0m, in \u001b[0;36mModule._apply\u001b[1;34m(self, fn)\u001b[0m\n\u001b[0;32m    <a href='file:///c%3A/Users/dell/AppData/Local/Programs/Python/Python39/lib/site-packages/torch/nn/modules/module.py?line=588'>589</a>\u001b[0m \u001b[39m# Tensors stored in modules are graph leaves, and we don't want to\u001b[39;00m\n\u001b[0;32m    <a href='file:///c%3A/Users/dell/AppData/Local/Programs/Python/Python39/lib/site-packages/torch/nn/modules/module.py?line=589'>590</a>\u001b[0m \u001b[39m# track autograd history of `param_applied`, so we have to use\u001b[39;00m\n\u001b[0;32m    <a href='file:///c%3A/Users/dell/AppData/Local/Programs/Python/Python39/lib/site-packages/torch/nn/modules/module.py?line=590'>591</a>\u001b[0m \u001b[39m# `with torch.no_grad():`\u001b[39;00m\n\u001b[0;32m    <a href='file:///c%3A/Users/dell/AppData/Local/Programs/Python/Python39/lib/site-packages/torch/nn/modules/module.py?line=591'>592</a>\u001b[0m \u001b[39mwith\u001b[39;00m torch\u001b[39m.\u001b[39mno_grad():\n\u001b[1;32m--> <a href='file:///c%3A/Users/dell/AppData/Local/Programs/Python/Python39/lib/site-packages/torch/nn/modules/module.py?line=592'>593</a>\u001b[0m     param_applied \u001b[39m=\u001b[39m fn(param)\n\u001b[0;32m    <a href='file:///c%3A/Users/dell/AppData/Local/Programs/Python/Python39/lib/site-packages/torch/nn/modules/module.py?line=593'>594</a>\u001b[0m should_use_set_data \u001b[39m=\u001b[39m compute_should_use_set_data(param, param_applied)\n\u001b[0;32m    <a href='file:///c%3A/Users/dell/AppData/Local/Programs/Python/Python39/lib/site-packages/torch/nn/modules/module.py?line=594'>595</a>\u001b[0m \u001b[39mif\u001b[39;00m should_use_set_data:\n",
      "File \u001b[1;32mc:\\Users\\dell\\AppData\\Local\\Programs\\Python\\Python39\\lib\\site-packages\\torch\\nn\\modules\\module.py:680\u001b[0m, in \u001b[0;36mModule.cuda.<locals>.<lambda>\u001b[1;34m(t)\u001b[0m\n\u001b[0;32m    <a href='file:///c%3A/Users/dell/AppData/Local/Programs/Python/Python39/lib/site-packages/torch/nn/modules/module.py?line=662'>663</a>\u001b[0m \u001b[39mdef\u001b[39;00m \u001b[39mcuda\u001b[39m(\u001b[39mself\u001b[39m: T, device: Optional[Union[\u001b[39mint\u001b[39m, device]] \u001b[39m=\u001b[39m \u001b[39mNone\u001b[39;00m) \u001b[39m-\u001b[39m\u001b[39m>\u001b[39m T:\n\u001b[0;32m    <a href='file:///c%3A/Users/dell/AppData/Local/Programs/Python/Python39/lib/site-packages/torch/nn/modules/module.py?line=663'>664</a>\u001b[0m     \u001b[39mr\u001b[39m\u001b[39m\"\"\"Moves all model parameters and buffers to the GPU.\u001b[39;00m\n\u001b[0;32m    <a href='file:///c%3A/Users/dell/AppData/Local/Programs/Python/Python39/lib/site-packages/torch/nn/modules/module.py?line=664'>665</a>\u001b[0m \n\u001b[0;32m    <a href='file:///c%3A/Users/dell/AppData/Local/Programs/Python/Python39/lib/site-packages/torch/nn/modules/module.py?line=665'>666</a>\u001b[0m \u001b[39m    This also makes associated parameters and buffers different objects. So\u001b[39;00m\n\u001b[1;32m   (...)\u001b[0m\n\u001b[0;32m    <a href='file:///c%3A/Users/dell/AppData/Local/Programs/Python/Python39/lib/site-packages/torch/nn/modules/module.py?line=677'>678</a>\u001b[0m \u001b[39m        Module: self\u001b[39;00m\n\u001b[0;32m    <a href='file:///c%3A/Users/dell/AppData/Local/Programs/Python/Python39/lib/site-packages/torch/nn/modules/module.py?line=678'>679</a>\u001b[0m \u001b[39m    \"\"\"\u001b[39;00m\n\u001b[1;32m--> <a href='file:///c%3A/Users/dell/AppData/Local/Programs/Python/Python39/lib/site-packages/torch/nn/modules/module.py?line=679'>680</a>\u001b[0m     \u001b[39mreturn\u001b[39;00m \u001b[39mself\u001b[39m\u001b[39m.\u001b[39m_apply(\u001b[39mlambda\u001b[39;00m t: t\u001b[39m.\u001b[39;49mcuda(device))\n",
      "File \u001b[1;32mc:\\Users\\dell\\AppData\\Local\\Programs\\Python\\Python39\\lib\\site-packages\\torch\\cuda\\__init__.py:208\u001b[0m, in \u001b[0;36m_lazy_init\u001b[1;34m()\u001b[0m\n\u001b[0;32m    <a href='file:///c%3A/Users/dell/AppData/Local/Programs/Python/Python39/lib/site-packages/torch/cuda/__init__.py?line=203'>204</a>\u001b[0m     \u001b[39mraise\u001b[39;00m \u001b[39mRuntimeError\u001b[39;00m(\n\u001b[0;32m    <a href='file:///c%3A/Users/dell/AppData/Local/Programs/Python/Python39/lib/site-packages/torch/cuda/__init__.py?line=204'>205</a>\u001b[0m         \u001b[39m\"\u001b[39m\u001b[39mCannot re-initialize CUDA in forked subprocess. To use CUDA with \u001b[39m\u001b[39m\"\u001b[39m\n\u001b[0;32m    <a href='file:///c%3A/Users/dell/AppData/Local/Programs/Python/Python39/lib/site-packages/torch/cuda/__init__.py?line=205'>206</a>\u001b[0m         \u001b[39m\"\u001b[39m\u001b[39mmultiprocessing, you must use the \u001b[39m\u001b[39m'\u001b[39m\u001b[39mspawn\u001b[39m\u001b[39m'\u001b[39m\u001b[39m start method\u001b[39m\u001b[39m\"\u001b[39m)\n\u001b[0;32m    <a href='file:///c%3A/Users/dell/AppData/Local/Programs/Python/Python39/lib/site-packages/torch/cuda/__init__.py?line=206'>207</a>\u001b[0m \u001b[39mif\u001b[39;00m \u001b[39mnot\u001b[39;00m \u001b[39mhasattr\u001b[39m(torch\u001b[39m.\u001b[39m_C, \u001b[39m'\u001b[39m\u001b[39m_cuda_getDeviceCount\u001b[39m\u001b[39m'\u001b[39m):\n\u001b[1;32m--> <a href='file:///c%3A/Users/dell/AppData/Local/Programs/Python/Python39/lib/site-packages/torch/cuda/__init__.py?line=207'>208</a>\u001b[0m     \u001b[39mraise\u001b[39;00m \u001b[39mAssertionError\u001b[39;00m(\u001b[39m\"\u001b[39m\u001b[39mTorch not compiled with CUDA enabled\u001b[39m\u001b[39m\"\u001b[39m)\n\u001b[0;32m    <a href='file:///c%3A/Users/dell/AppData/Local/Programs/Python/Python39/lib/site-packages/torch/cuda/__init__.py?line=208'>209</a>\u001b[0m \u001b[39mif\u001b[39;00m _cudart \u001b[39mis\u001b[39;00m \u001b[39mNone\u001b[39;00m:\n\u001b[0;32m    <a href='file:///c%3A/Users/dell/AppData/Local/Programs/Python/Python39/lib/site-packages/torch/cuda/__init__.py?line=209'>210</a>\u001b[0m     \u001b[39mraise\u001b[39;00m \u001b[39mAssertionError\u001b[39;00m(\n\u001b[0;32m    <a href='file:///c%3A/Users/dell/AppData/Local/Programs/Python/Python39/lib/site-packages/torch/cuda/__init__.py?line=210'>211</a>\u001b[0m         \u001b[39m\"\u001b[39m\u001b[39mlibcudart functions unavailable. It looks like you have a broken build?\u001b[39m\u001b[39m\"\u001b[39m)\n",
      "\u001b[1;31mAssertionError\u001b[0m: Torch not compiled with CUDA enabled"
     ]
    }
   ],
   "source": [
    "model = model"
   ]
  },
  {
   "cell_type": "code",
   "execution_count": 8,
   "metadata": {
    "collapsed": true
   },
   "outputs": [
    {
     "ename": "FileNotFoundError",
     "evalue": "[Errno 2] No such file or directory: 'model_best.pth.tar'",
     "output_type": "error",
     "traceback": [
      "\u001b[1;31m---------------------------------------------------------------------------\u001b[0m",
      "\u001b[1;31mFileNotFoundError\u001b[0m                         Traceback (most recent call last)",
      "\u001b[1;32mc:\\Users\\dell\\Desktop\\CSRNet-pytorch-master\\val.ipynb Cell 8'\u001b[0m in \u001b[0;36m<cell line: 1>\u001b[1;34m()\u001b[0m\n\u001b[1;32m----> <a href='vscode-notebook-cell:/c%3A/Users/dell/Desktop/CSRNet-pytorch-master/val.ipynb#ch0000007?line=0'>1</a>\u001b[0m checkpoint \u001b[39m=\u001b[39m torch\u001b[39m.\u001b[39;49mload(\u001b[39m'\u001b[39;49m\u001b[39mmodel_best.pth.tar\u001b[39;49m\u001b[39m'\u001b[39;49m)\n",
      "File \u001b[1;32mc:\\Users\\dell\\AppData\\Local\\Programs\\Python\\Python39\\lib\\site-packages\\torch\\serialization.py:594\u001b[0m, in \u001b[0;36mload\u001b[1;34m(f, map_location, pickle_module, **pickle_load_args)\u001b[0m\n\u001b[0;32m    <a href='file:///c%3A/Users/dell/AppData/Local/Programs/Python/Python39/lib/site-packages/torch/serialization.py?line=590'>591</a>\u001b[0m \u001b[39mif\u001b[39;00m \u001b[39m'\u001b[39m\u001b[39mencoding\u001b[39m\u001b[39m'\u001b[39m \u001b[39mnot\u001b[39;00m \u001b[39min\u001b[39;00m pickle_load_args\u001b[39m.\u001b[39mkeys():\n\u001b[0;32m    <a href='file:///c%3A/Users/dell/AppData/Local/Programs/Python/Python39/lib/site-packages/torch/serialization.py?line=591'>592</a>\u001b[0m     pickle_load_args[\u001b[39m'\u001b[39m\u001b[39mencoding\u001b[39m\u001b[39m'\u001b[39m] \u001b[39m=\u001b[39m \u001b[39m'\u001b[39m\u001b[39mutf-8\u001b[39m\u001b[39m'\u001b[39m\n\u001b[1;32m--> <a href='file:///c%3A/Users/dell/AppData/Local/Programs/Python/Python39/lib/site-packages/torch/serialization.py?line=593'>594</a>\u001b[0m \u001b[39mwith\u001b[39;00m _open_file_like(f, \u001b[39m'\u001b[39;49m\u001b[39mrb\u001b[39;49m\u001b[39m'\u001b[39;49m) \u001b[39mas\u001b[39;00m opened_file:\n\u001b[0;32m    <a href='file:///c%3A/Users/dell/AppData/Local/Programs/Python/Python39/lib/site-packages/torch/serialization.py?line=594'>595</a>\u001b[0m     \u001b[39mif\u001b[39;00m _is_zipfile(opened_file):\n\u001b[0;32m    <a href='file:///c%3A/Users/dell/AppData/Local/Programs/Python/Python39/lib/site-packages/torch/serialization.py?line=595'>596</a>\u001b[0m         \u001b[39m# The zipfile reader is going to advance the current file position.\u001b[39;00m\n\u001b[0;32m    <a href='file:///c%3A/Users/dell/AppData/Local/Programs/Python/Python39/lib/site-packages/torch/serialization.py?line=596'>597</a>\u001b[0m         \u001b[39m# If we want to actually tail call to torch.jit.load, we need to\u001b[39;00m\n\u001b[0;32m    <a href='file:///c%3A/Users/dell/AppData/Local/Programs/Python/Python39/lib/site-packages/torch/serialization.py?line=597'>598</a>\u001b[0m         \u001b[39m# reset back to the original position.\u001b[39;00m\n\u001b[0;32m    <a href='file:///c%3A/Users/dell/AppData/Local/Programs/Python/Python39/lib/site-packages/torch/serialization.py?line=598'>599</a>\u001b[0m         orig_position \u001b[39m=\u001b[39m opened_file\u001b[39m.\u001b[39mtell()\n",
      "File \u001b[1;32mc:\\Users\\dell\\AppData\\Local\\Programs\\Python\\Python39\\lib\\site-packages\\torch\\serialization.py:230\u001b[0m, in \u001b[0;36m_open_file_like\u001b[1;34m(name_or_buffer, mode)\u001b[0m\n\u001b[0;32m    <a href='file:///c%3A/Users/dell/AppData/Local/Programs/Python/Python39/lib/site-packages/torch/serialization.py?line=227'>228</a>\u001b[0m \u001b[39mdef\u001b[39;00m \u001b[39m_open_file_like\u001b[39m(name_or_buffer, mode):\n\u001b[0;32m    <a href='file:///c%3A/Users/dell/AppData/Local/Programs/Python/Python39/lib/site-packages/torch/serialization.py?line=228'>229</a>\u001b[0m     \u001b[39mif\u001b[39;00m _is_path(name_or_buffer):\n\u001b[1;32m--> <a href='file:///c%3A/Users/dell/AppData/Local/Programs/Python/Python39/lib/site-packages/torch/serialization.py?line=229'>230</a>\u001b[0m         \u001b[39mreturn\u001b[39;00m _open_file(name_or_buffer, mode)\n\u001b[0;32m    <a href='file:///c%3A/Users/dell/AppData/Local/Programs/Python/Python39/lib/site-packages/torch/serialization.py?line=230'>231</a>\u001b[0m     \u001b[39melse\u001b[39;00m:\n\u001b[0;32m    <a href='file:///c%3A/Users/dell/AppData/Local/Programs/Python/Python39/lib/site-packages/torch/serialization.py?line=231'>232</a>\u001b[0m         \u001b[39mif\u001b[39;00m \u001b[39m'\u001b[39m\u001b[39mw\u001b[39m\u001b[39m'\u001b[39m \u001b[39min\u001b[39;00m mode:\n",
      "File \u001b[1;32mc:\\Users\\dell\\AppData\\Local\\Programs\\Python\\Python39\\lib\\site-packages\\torch\\serialization.py:211\u001b[0m, in \u001b[0;36m_open_file.__init__\u001b[1;34m(self, name, mode)\u001b[0m\n\u001b[0;32m    <a href='file:///c%3A/Users/dell/AppData/Local/Programs/Python/Python39/lib/site-packages/torch/serialization.py?line=209'>210</a>\u001b[0m \u001b[39mdef\u001b[39;00m \u001b[39m__init__\u001b[39m(\u001b[39mself\u001b[39m, name, mode):\n\u001b[1;32m--> <a href='file:///c%3A/Users/dell/AppData/Local/Programs/Python/Python39/lib/site-packages/torch/serialization.py?line=210'>211</a>\u001b[0m     \u001b[39msuper\u001b[39m(_open_file, \u001b[39mself\u001b[39m)\u001b[39m.\u001b[39m\u001b[39m__init__\u001b[39m(\u001b[39mopen\u001b[39;49m(name, mode))\n",
      "\u001b[1;31mFileNotFoundError\u001b[0m: [Errno 2] No such file or directory: 'model_best.pth.tar'"
     ]
    }
   ],
   "source": [
    "checkpoint = torch.load('model_best.pth.tar')"
   ]
  },
  {
   "cell_type": "code",
   "execution_count": 9,
   "metadata": {
    "collapsed": true
   },
   "outputs": [
    {
     "ename": "NameError",
     "evalue": "name 'checkpoint' is not defined",
     "output_type": "error",
     "traceback": [
      "\u001b[1;31m---------------------------------------------------------------------------\u001b[0m",
      "\u001b[1;31mNameError\u001b[0m                                 Traceback (most recent call last)",
      "\u001b[1;32mc:\\Users\\dell\\Desktop\\CSRNet-pytorch-master\\val.ipynb Cell 9'\u001b[0m in \u001b[0;36m<cell line: 1>\u001b[1;34m()\u001b[0m\n\u001b[1;32m----> <a href='vscode-notebook-cell:/c%3A/Users/dell/Desktop/CSRNet-pytorch-master/val.ipynb#ch0000008?line=0'>1</a>\u001b[0m model\u001b[39m.\u001b[39mload_state_dict(checkpoint[\u001b[39m'\u001b[39m\u001b[39mstate_dict\u001b[39m\u001b[39m'\u001b[39m])\n",
      "\u001b[1;31mNameError\u001b[0m: name 'checkpoint' is not defined"
     ]
    }
   ],
   "source": [
    "model.load_state_dict(checkpoint['state_dict'])"
   ]
  },
  {
   "cell_type": "code",
   "execution_count": 15,
   "metadata": {
    "scrolled": true
   },
   "outputs": [
    {
     "name": "stdout",
     "output_type": "stream",
     "text": [
      "0 242.07859802246094\n",
      "1 827.3232269287109\n",
      "2 1235.8784942626953\n",
      "3 1507.0160369873047\n",
      "4 1731.4884338378906\n",
      "5 2227.5231018066406\n",
      "6 3438.3824768066406\n",
      "7 3770.5259704589844\n",
      "8 5022.911956787109\n",
      "9 5343.529296875\n",
      "10 5588.3280029296875\n",
      "11 6043.1201171875\n",
      "12 7180.586181640625\n",
      "13 8268.821166992188\n",
      "14 8764.234191894531\n",
      "15 9100.344848632812\n",
      "16 9201.710952758789\n",
      "17 9394.471755981445\n",
      "18 10603.463455200195\n",
      "19 10908.705917358398\n",
      "20 12531.646713256836\n",
      "21 12832.276626586914\n",
      "22 13168.122116088867\n",
      "23 13536.389877319336\n",
      "24 13691.253021240234\n",
      "25 14959.937713623047\n",
      "26 16178.260467529297\n",
      "27 16296.27163696289\n",
      "28 16538.453002929688\n",
      "29 16861.61102294922\n",
      "30 17376.71270751953\n",
      "31 18430.63641357422\n",
      "32 18866.201629638672\n",
      "33 19241.705474853516\n",
      "34 19889.820831298828\n",
      "35 20843.236907958984\n",
      "36 21521.824188232422\n",
      "37 21919.05828857422\n",
      "38 22073.335235595703\n",
      "39 22302.042678833008\n",
      "40 22375.795372009277\n",
      "41 22480.117645263672\n",
      "42 22970.992218017578\n",
      "43 23268.199981689453\n",
      "44 23656.779266357422\n",
      "45 24484.12240600586\n",
      "46 24659.843368530273\n",
      "47 25192.53123474121\n",
      "48 25421.41876220703\n",
      "49 25783.727661132812\n",
      "50 26063.58218383789\n",
      "51 26342.41390991211\n",
      "52 26859.536834716797\n",
      "53 27499.313262939453\n",
      "54 27729.411529541016\n",
      "55 28041.538513183594\n",
      "56 28387.193634033203\n",
      "57 29691.53140258789\n",
      "58 29954.27767944336\n",
      "59 30304.68148803711\n",
      "60 30720.05633544922\n",
      "61 31232.135375976562\n",
      "62 31468.90478515625\n",
      "63 31724.226486206055\n",
      "64 32186.24494934082\n",
      "65 32509.392684936523\n",
      "66 32754.618118286133\n",
      "67 33176.864028930664\n",
      "68 33310.16807556152\n",
      "69 33607.27088928223\n",
      "70 33853.25216674805\n",
      "71 34034.76336669922\n",
      "72 34340.03646850586\n",
      "73 35969.40744018555\n",
      "74 36155.374084472656\n",
      "75 36274.57022857666\n",
      "76 36578.927070617676\n",
      "77 36841.57950592041\n",
      "78 38040.39249420166\n",
      "79 38791.24356842041\n",
      "80 39127.03769683838\n",
      "81 40320.71189117432\n",
      "82 40870.14151763916\n",
      "83 41058.87870025635\n",
      "84 41534.28800201416\n",
      "85 41759.40241241455\n",
      "86 42181.77256011963\n",
      "87 42762.39548492432\n",
      "88 43211.73236846924\n",
      "89 43491.94910430908\n",
      "90 43935.24195098877\n",
      "91 44237.97080230713\n",
      "92 44486.74411773682\n",
      "93 44771.33347320557\n",
      "94 45965.45749664307\n",
      "95 46471.1353225708\n",
      "96 47243.016120910645\n",
      "97 47487.44295501709\n",
      "98 48013.456199645996\n",
      "99 48638.58638763428\n",
      "100 48942.696464538574\n",
      "101 49444.47148895264\n",
      "102 50272.20714569092\n",
      "103 50744.407890319824\n",
      "104 51126.73937225342\n",
      "105 51450.299797058105\n",
      "106 51792.65370941162\n",
      "107 52103.748680114746\n",
      "108 53128.339012145996\n",
      "109 53651.39675140381\n",
      "110 53738.52443695068\n",
      "111 54344.82546234131\n",
      "112 55642.782371520996\n",
      "113 55904.49633026123\n",
      "114 56700.095695495605\n",
      "115 56974.20711517334\n",
      "116 57152.75235748291\n",
      "117 57458.82834625244\n",
      "118 57780.66596221924\n",
      "119 58642.89917755127\n",
      "120 58852.99167633057\n",
      "121 59263.20569610596\n",
      "122 59427.25843048096\n",
      "123 59858.90662384033\n",
      "124 60183.345222473145\n",
      "125 60607.28388214111\n",
      "126 61140.921211242676\n",
      "127 62038.728034973145\n",
      "128 63108.20569610596\n",
      "129 63472.626625061035\n",
      "130 63611.01372528076\n",
      "131 63797.40476226807\n",
      "132 64340.94065093994\n",
      "133 64562.28118133545\n",
      "134 64929.548484802246\n",
      "135 65354.72469329834\n",
      "136 65631.89476776123\n",
      "137 66121.40422821045\n",
      "138 66554.5125656128\n",
      "139 66880.23918914795\n",
      "140 67094.67404937744\n",
      "141 67458.74982452393\n",
      "142 68625.61457061768\n",
      "143 68938.09589385986\n",
      "144 69170.084815979\n",
      "145 70068.3592300415\n",
      "146 70307.58075714111\n",
      "147 70566.43347930908\n",
      "148 70736.33673858643\n",
      "149 71354.7862625122\n",
      "150 71785.9448928833\n",
      "151 72464.9937210083\n",
      "152 73077.50568389893\n",
      "153 73289.446434021\n",
      "154 74232.5665512085\n",
      "155 74915.8770980835\n",
      "156 75421.05165863037\n",
      "157 75699.18251800537\n",
      "158 76053.95394134521\n",
      "159 76256.82134246826\n",
      "160 77638.96562957764\n",
      "161 77851.7187423706\n",
      "162 78226.60955047607\n",
      "163 78459.932762146\n",
      "164 78761.37410736084\n",
      "165 78962.79042816162\n",
      "166 79110.9811630249\n",
      "167 79755.15645599365\n",
      "168 80229.30437469482\n",
      "169 80390.2917098999\n",
      "170 80805.95989227295\n",
      "171 81225.65267181396\n",
      "172 83504.13997650146\n",
      "173 83671.23516082764\n",
      "174 85076.48345184326\n",
      "175 85332.65731048584\n",
      "176 85406.26497650146\n",
      "177 85594.61371612549\n",
      "178 85844.91117095947\n",
      "179 86381.96347808838\n",
      "180 86546.28113555908\n",
      "181 86809.85300445557\n",
      "476.9772143101954\n"
     ]
    }
   ],
   "source": [
    "mae = 0\n",
    "for i in range(len(img_paths)):\n",
    "    img = 255.0 * F.to_tensor(Image.open(img_paths[i]).convert('RGB'))\n",
    "\n",
    "    img[0,:,:]=img[0,:,:]-92.8207477031\n",
    "    img[1,:,:]=img[1,:,:]-95.2757037428\n",
    "    img[2,:,:]=img[2,:,:]-104.877445883\n",
    "    #img = transform(Image.open(img_paths[i]).convert('RGB')).cuda()\n",
    "    gt_file = h5py.File(img_paths[i].replace('.jpg','.h5').replace('images','ground-truth'),'r')\n",
    "    groundtruth = np.asarray(gt_file['density'])\n",
    "    output = model(img.unsqueeze(0))\n",
    "    mae += abs(output.detach().cpu().sum().numpy()-np.sum(groundtruth))\n",
    "    print(i,mae)\n",
    "print (mae/len(img_paths))"
   ]
  },
  {
   "cell_type": "code",
   "execution_count": 17,
   "metadata": {
    "scrolled": true
   },
   "outputs": [
    {
     "name": "stdout",
     "output_type": "stream",
     "text": [
      "-1.0479431\n"
     ]
    }
   ],
   "source": [
    "mae = 0\n",
    "img = 255.0 * F.to_tensor(Image.open(r'C:\\Users\\dell\\Desktop\\1.jpg').convert('RGB'))\n",
    "img[0,:,:]=img[0,:,:]-92.8207477031\n",
    "img[1,:,:]=img[1,:,:]-95.2757037428\n",
    "img[2,:,:]=img[2,:,:]-104.877445883\n",
    "output = model(img.unsqueeze(0))\n",
    "print(output.detach().cpu().sum().numpy())\n"
   ]
  }
 ],
 "metadata": {
  "interpreter": {
   "hash": "e89691e4663d647bc11c8a9859f5cdd56224e794f653bdd6c406cd9780fe241b"
  },
  "kernelspec": {
   "display_name": "Python 3.9.9 64-bit",
   "language": "python",
   "name": "python3"
  },
  "language_info": {
   "codemirror_mode": {
    "name": "ipython",
    "version": 3
   },
   "file_extension": ".py",
   "mimetype": "text/x-python",
   "name": "python",
   "nbconvert_exporter": "python",
   "pygments_lexer": "ipython3",
   "version": "3.9.9"
  }
 },
 "nbformat": 4,
 "nbformat_minor": 2
}
